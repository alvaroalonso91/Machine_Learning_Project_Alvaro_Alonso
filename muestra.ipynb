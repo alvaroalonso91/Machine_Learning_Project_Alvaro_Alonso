{
 "cells": [
  {
   "cell_type": "code",
   "execution_count": null,
   "metadata": {},
   "outputs": [],
   "source": []
  },
  {
   "cell_type": "code",
   "execution_count": 1,
   "metadata": {},
   "outputs": [],
   "source": [
    "import pandas as pd\n",
    "# Ruta del archivo CSV\n",
    "ruta_archivo = r'C:\\Users\\alvar\\OneDrive\\Escritorio\\ML_Alvaro\\adult.csv'\n",
    "\n",
    "# Leer el archivo CSV y crear un DataFrame\n",
    "df = pd.read_csv(ruta_archivo)\n",
    "\n",
    "# Tamaño de la muestra deseada (por ejemplo, 20% del tamaño original)\n",
    "tamaño_muestra = int(0.2 * len(df))\n",
    "\n",
    "# Crear una muestra aleatoria del dataset\n",
    "df_muestra = df.sample(n=tamaño_muestra, random_state=42)  # Puedes ajustar el valor de random_state según sea necesario\n",
    "\n",
    "# Guardar la muestra en un nuevo archivo CSV\n",
    "df_muestra.to_csv(\"sample_dataset.csv\", index=False)"
   ]
  },
  {
   "cell_type": "code",
   "execution_count": null,
   "metadata": {},
   "outputs": [],
   "source": [
    "import shutil\n",
    "\n",
    "# Especifica la ruta de la carpeta en el escritorio donde quieres guardar el archivo de muestra\n",
    "carpeta_escritorio = \"/ruta/a/la/carpeta/en/el/escritorio\"\n",
    "\n",
    "# Copia el archivo de muestra a la carpeta en el escritorio\n",
    "shutil.copy(\"sample_dataset.csv\", carpeta_escritorio)"
   ]
  }
 ],
 "metadata": {
  "kernelspec": {
   "display_name": "Python 3",
   "language": "python",
   "name": "python3"
  },
  "language_info": {
   "codemirror_mode": {
    "name": "ipython",
    "version": 3
   },
   "file_extension": ".py",
   "mimetype": "text/x-python",
   "name": "python",
   "nbconvert_exporter": "python",
   "pygments_lexer": "ipython3",
   "version": "3.11.3"
  }
 },
 "nbformat": 4,
 "nbformat_minor": 2
}
